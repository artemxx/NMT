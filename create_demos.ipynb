{
 "cells": [
  {
   "cell_type": "code",
   "execution_count": 11,
   "metadata": {},
   "outputs": [],
   "source": [
    "from glob import glob"
   ]
  },
  {
   "cell_type": "code",
   "execution_count": 23,
   "metadata": {
    "scrolled": true
   },
   "outputs": [],
   "source": [
    "data = dict()\n",
    "for fname in glob(\"dev-clean/**/*.txt\", recursive=True):\n",
    "    for line in open(fname):\n",
    "        fields = line.split(\" \")\n",
    "        audio = fields[0]\n",
    "        text = \" \".join(fields[1:])\n",
    "        data[audio] = text"
   ]
  },
  {
   "cell_type": "code",
   "execution_count": 25,
   "metadata": {},
   "outputs": [
    {
     "data": {
      "text/plain": [
       "['2277-149896-0000',\n",
       " '7976-110523-0018',\n",
       " '8297-275155-0004',\n",
       " '2803-161169-0003',\n",
       " '1462-170138-0012',\n",
       " '652-130726-0006',\n",
       " '6319-64726-0019',\n",
       " '5536-43358-0007',\n",
       " '2412-153954-0005',\n",
       " '6241-66616-0023']"
      ]
     },
     "execution_count": 25,
     "metadata": {},
     "output_type": "execute_result"
    }
   ],
   "source": [
    "examples = list(data.keys())[::300]\n",
    "examples"
   ]
  },
  {
   "cell_type": "code",
   "execution_count": 32,
   "metadata": {},
   "outputs": [],
   "source": [
    "import subprocess\n",
    "P = \"/home/artem/Downloads/NMT/examples/demo/more\""
   ]
  },
  {
   "cell_type": "code",
   "execution_count": 37,
   "metadata": {},
   "outputs": [
    {
     "name": "stdout",
     "output_type": "stream",
     "text": [
      "2277-149896-0000.flac 2277-149896-0000 HE WAS IN A FEVERED STATE OF MIND OWING TO THE BLIGHT HIS WIFE'S ACTION THREATENED TO CAST UPON HIS ENTIRE FUTURE\n",
      "\n",
      "7976-110523-0018.flac 7976-110523-0018 SEE I COULD EVEN GET IN MYSELF\n",
      "\n",
      "8297-275155-0004.flac 8297-275155-0004 WITH HIS OWN SUSPICIONS STEADILY CONTRADICTING HIM HE ARRIVED AT THE HOTEL OBSTINATELY BELIEVING THAT THE CHARMING WIDOW WOULD PROVE TO BE A STRANGER\n",
      "\n",
      "2803-161169-0003.flac 2803-161169-0003 AND SO THROUGH MANY QUESTIONS AND MANY EXPERIMENTS THEY LEARN AT LAST HOW TO USE THE CONTENTS OF THIS ONE STOREHOUSE\n",
      "\n",
      "1462-170138-0012.flac 1462-170138-0012 MAC CONNELL LET ME INTRODUCE MISTER BARTLEY ALEXANDER\n",
      "\n",
      "652-130726-0006.flac 652-130726-0006 JOHN TAIT IS THE PRESIDING SPIRIT HERE HE HAVING MADE REPUTATION AS CLUB MANAGER AND THEN AS MANAGER OF THE CLIFF HOUSE\n",
      "\n",
      "6319-64726-0019.flac 6319-64726-0019 THE VIOLINS AND HAUT BOYS PLAYED OLD BUT EXCELLENT PIECES OF MUSIC AND AFTER SUPPER TO LOSE NO TIME THE GRAND ALMONER MARRIED THE ROYAL LOVERS IN THE CHAPEL OF THE CASTLE\n",
      "\n",
      "5536-43358-0007.flac 5536-43358-0007 KNOWING THAT GOD SETS NO VALUE UPON MATERIAL THINGS HE TOOK WITH HIM NO OFFERINGS OR SACRIFICES OTHER THAN SYMBOLIC OBJECTS SUCH AS PAINTS AND TOBACCO\n",
      "\n",
      "2412-153954-0005.flac 2412-153954-0005 EACH FEATURE WAS FINISHED EYELIDS EYELASHES AND EARS BEING ALMOST INVARIABLY PERFECT\n",
      "\n",
      "6241-66616-0023.flac 6241-66616-0023 THREE WEEKS LATER CAME WABIGOON'S REPLY\n",
      "\n"
     ]
    }
   ],
   "source": [
    "for fname in glob(\"dev-clean/**/*.flac\", recursive=True):\n",
    "    fname_id = fname.split(\"/\")[-1]\n",
    "    for ex in examples:\n",
    "        if fname_id.startswith(ex):\n",
    "            print(fname_id, ex, data[ex])\n",
    "            subprocess.run([\"cp\", fname, P + \"/\" + fname_id])\n",
    "            with open(P + \"/\" + fname_id.split(\".\")[0] + \".txt.gt\", \"w\") as f:\n",
    "                f.write(data[ex])"
   ]
  },
  {
   "cell_type": "code",
   "execution_count": 42,
   "metadata": {},
   "outputs": [],
   "source": [
    "import os\n",
    "\n",
    "os.path.is"
   ]
  },
  {
   "cell_type": "code",
   "execution_count": 51,
   "metadata": {},
   "outputs": [
    {
     "name": "stdout",
     "output_type": "stream",
     "text": [
      "Removed /home/artem/Downloads/NMT/examples/demo/more/2277-149896-0000\n",
      "Removed /home/artem/Downloads/NMT/examples/demo/more/6319-64726-0019\n",
      "Removed /home/artem/Downloads/NMT/examples/demo/more/2803-161169-0003\n",
      "Removed /home/artem/Downloads/NMT/examples/demo/more/7976-110523-0018\n",
      "Removed /home/artem/Downloads/NMT/examples/demo/more/5536-43358-0007\n",
      "Removed /home/artem/Downloads/NMT/examples/demo/more/8297-275155-0004\n",
      "Removed /home/artem/Downloads/NMT/examples/demo/more/6241-66616-0023\n",
      "Removed /home/artem/Downloads/NMT/examples/demo/more/652-130726-0006\n",
      "Removed /home/artem/Downloads/NMT/examples/demo/more/1462-170138-0012\n",
      "Removed /home/artem/Downloads/NMT/examples/demo/more/2412-153954-0005\n"
     ]
    }
   ],
   "source": [
    "def rm_without_ext(folder):\n",
    "    for fname in glob(folder + \"/*\"):\n",
    "        if os.path.isdir(fname):\n",
    "            continue\n",
    "        if fname.count(\".\") == 0:\n",
    "            subprocess.run([\"rm\", fname])\n",
    "            print(f\"Removed {fname}\")\n",
    "  \n",
    "\n",
    "rm_without_ext(\"/home/artem/Downloads/NMT/examples/demo/more\")"
   ]
  }
 ],
 "metadata": {
  "kernelspec": {
   "display_name": "Python 3",
   "language": "python",
   "name": "python3"
  },
  "language_info": {
   "codemirror_mode": {
    "name": "ipython",
    "version": 3
   },
   "file_extension": ".py",
   "mimetype": "text/x-python",
   "name": "python",
   "nbconvert_exporter": "python",
   "pygments_lexer": "ipython3",
   "version": "3.8.10"
  }
 },
 "nbformat": 4,
 "nbformat_minor": 4
}
