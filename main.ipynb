{
 "cells": [
  {
   "cell_type": "markdown",
   "metadata": {
    "id": "HmsFABwClrsS"
   },
   "source": [
    "# Encoder-decoder architecture\n",
    "\n",
    "Encoder-decoder architectures are about converting anything to anything, including\n",
    " * Machine translation and spoken dialogue systems\n",
    " * [Image captioning](http://mscoco.org/dataset/#captions-challenge2015) and [image2latex](https://openai.com/requests-for-research/#im2latex) (convolutional encoder, recurrent decoder)\n",
    " * Generating [images by captions](https://arxiv.org/abs/1511.02793) (recurrent encoder, convolutional decoder)\n",
    " * Grapheme2phoneme - convert words to transcripts"
   ]
  },
  {
   "cell_type": "code",
   "execution_count": 1,
   "metadata": {},
   "outputs": [],
   "source": [
    "from nltk.tokenize import WordPunctTokenizer\n",
    "from subword_nmt.learn_bpe import learn_bpe\n",
    "from subword_nmt.apply_bpe import BPE\n",
    "import numpy as np\n",
    "import matplotlib.pyplot as plt\n",
    "from vocab import Vocab\n",
    "from sklearn.model_selection import train_test_split\n",
    "from my_models import BasicModel\n",
    "import torch\n",
    "from IPython.display import clear_output\n",
    "from transformers import FSMTForConditionalGeneration, FSMTTokenizer\n",
    "from tqdm.notebook import tqdm\n",
    "import copy\n",
    "from tqdm import tqdm"
   ]
  },
  {
   "cell_type": "markdown",
   "metadata": {
    "id": "R4N9AD2dlrsU"
   },
   "source": [
    "# Our task: machine translation\n",
    "\n",
    "We gonna try our encoder-decoder models on russian to english machine translation problem. More specifically, we'll translate hotel and hostel descriptions.\n",
    "\n",
    "* Data will be tokenized with WordPunctTokenizer.\n",
    "\n",
    "* Our data lines contain unique rare words. If we operate on a word level, we will have to deal with large vocabulary size. If instead we use character-level models, it would take lots of iterations to process a sequence. This time we're gonna pick something inbetween.\n",
    "\n",
    "* One popular approach is called [Byte Pair Encoding](https://github.com/rsennrich/subword-nmt) aka __BPE__. The algorithm starts with a character-level tokenization and then iteratively merges most frequent pairs for N iterations. This results in frequent words being merged into a single token and rare words split into syllables or even characters.\n",
    "\n"
   ]
  },
  {
   "cell_type": "code",
   "execution_count": 2,
   "metadata": {
    "colab": {
     "base_uri": "https://localhost:8080/",
     "height": 564
    },
    "id": "CfvojjHQlrsU",
    "outputId": "aa95011d-c2f7-4ca3-aec1-b246b9c3f886",
    "scrolled": true
   },
   "outputs": [],
   "source": [
    "!pip3 install torch>=1.3.0\n",
    "!pip3 install subword-nmt &> log\n",
    "# !wget https://www.dropbox.com/s/yy2zqh34dyhv07i/data.txt?dl=1 -O data.txt\n",
    "# thanks to tilda and deephack teams for the data, Dmitry Emelyanenko for the code :)"
   ]
  },
  {
   "cell_type": "code",
   "execution_count": 3,
   "metadata": {
    "id": "g9kP0SdxlrsY"
   },
   "outputs": [],
   "source": [
    "def tokenize(x):\n",
    "    return ' '.join(nltk_tokenizer.tokenize(x.lower()))\n",
    "\n",
    "\n",
    "nltk_tokenizer = WordPunctTokenizer()\n",
    "\n",
    "# split and tokenize the data\n",
    "with open('train.en', 'w') as f_src,  open('train.ru', 'w') as f_dst:\n",
    "    for line in open('data.txt'):\n",
    "        src_line, dst_line = line.strip().split('\\t')\n",
    "        f_src.write(tokenize(src_line) + '\\n')\n",
    "        f_dst.write(tokenize(dst_line) + '\\n')\n",
    "\n",
    "# build and apply bpe vocs\n",
    "bpe = {}\n",
    "for lang in ['en', 'ru']:\n",
    "    learn_bpe(open('./train.' + lang), open('bpe_rules.' + lang, 'w'), num_symbols=8000)\n",
    "    bpe[lang] = BPE(open('./bpe_rules.' + lang))\n",
    "    \n",
    "    with open('train.bpe.' + lang, 'w') as f_out:\n",
    "        for line in open('train.' + lang):\n",
    "            f_out.write(bpe[lang].process_line(line.strip()) + '\\n')"
   ]
  },
  {
   "cell_type": "markdown",
   "metadata": {
    "id": "0UPW3sV8lrsb"
   },
   "source": [
    "## Building vocabularies\n",
    "\n",
    "We now need to build vocabularies that map strings to token ids and vice versa. We're gonna need these fellas when we feed training data into model or convert output matrices into words."
   ]
  },
  {
   "cell_type": "markdown",
   "metadata": {},
   "source": [
    "## Let's take a look at some sample data"
   ]
  },
  {
   "cell_type": "code",
   "execution_count": 4,
   "metadata": {
    "colab": {
     "base_uri": "https://localhost:8080/",
     "height": 170
    },
    "id": "8PskgBSxlrsd",
    "outputId": "dfb78818-90cf-4138-c1f6-3f492ba06a3c"
   },
   "outputs": [
    {
     "name": "stdout",
     "output_type": "stream",
     "text": [
      "Number of sequences: 50001\n",
      "\n",
      "Inp: для гостей сервируется завтрак . кроме того , гости могут воспользоваться общей кухней .\n",
      "Out: breakfast is provided and common kitchen facilities are featured .\n",
      "\n",
      "Inp: в числе удобств всех номеров — мини - бар и телевизор со спутниковыми каналами , а в некоторых номерах есть гостиная зона и кондиционер .\n",
      "Out: each comes with a minibar and satellite tv . some offer a seating area and air conditioning .\n",
      "\n",
      "Inp: фитнес - центр гостиницы располагает 5 тренаж@@ ерами для фит@@ нес@@ а , а также мест@@ ами для игр и оборудованием для детей .\n",
      "Out: the fitness centre of the hotel provides 5 types of fitness de@@ vi@@ ces and it offers games and special children - friendly equipment .\n",
      "\n"
     ]
    }
   ],
   "source": [
    "data_inp = np.array(open('./train.bpe.ru').read().split('\\n'))\n",
    "data_out = np.array(open('./train.bpe.en').read().split('\\n'))\n",
    "\n",
    "assert len(data_inp) == len(data_out), 'Number of inp & out sequences must be the same'\n",
    "\n",
    "print('Number of sequences: %s' % len(data_inp), end='\\n\\n')\n",
    "\n",
    "train_inp, dev_inp, train_out, dev_out = train_test_split(data_inp, data_out, test_size=0.05,\n",
    "                                                          random_state=0)\n",
    "for i in range(3):\n",
    "    print('Inp:', train_inp[i])\n",
    "    print('Out:', train_out[i], end='\\n\\n')"
   ]
  },
  {
   "cell_type": "code",
   "execution_count": 5,
   "metadata": {
    "id": "vipg4O61lrsg"
   },
   "outputs": [],
   "source": [
    "inp_voc = Vocab.from_lines(train_inp)\n",
    "out_voc = Vocab.from_lines(train_out)"
   ]
  },
  {
   "cell_type": "code",
   "execution_count": 6,
   "metadata": {
    "colab": {
     "base_uri": "https://localhost:8080/",
     "height": 221
    },
    "id": "cwOoHfuhlrsi",
    "outputId": "3a94bd2b-f34c-49ce-ad13-1ee1215d76c4"
   },
   "outputs": [
    {
     "name": "stdout",
     "output_type": "stream",
     "text": [
      "Lines: ['имеется балкон .', 'гостевой дом r .', 'до афин — 20 км .', 'работает боулинг .', 'оборудован балкон .']\n",
      "\n",
      "Words to ids (0 = BOS, 1 = EOS):\n",
      " tensor([[   0, 3487, 1870,   29,    1,    1,    1,    1],\n",
      "        [   0, 2690, 2944, 1108,   29,    1,    1,    1],\n",
      "        [   0, 2923, 1834, 8035,   59, 3800,   29,    1],\n",
      "        [   0, 6028, 2084,   29,    1,    1,    1,    1],\n",
      "        [   0, 4928, 1870,   29,    1,    1,    1,    1]])\n",
      "\n",
      "Back to words: ['имеется балкон .', 'гостевой дом r .', 'до афин — 20 км .', 'работает боулинг .', 'оборудован балкон .']\n"
     ]
    }
   ],
   "source": [
    "# Here's how you cast lines into ids and backwards\n",
    "batch_lines = sorted(train_inp, key=len)[5:10]\n",
    "batch_ids = inp_voc.to_matrix(batch_lines)\n",
    "batch_lines_restored = inp_voc.to_lines(batch_ids)\n",
    "\n",
    "print('Lines: %s' % batch_lines, end='\\n\\n')\n",
    "print('Words to ids (0 = BOS, 1 = EOS):\\n %s' % batch_ids, end='\\n\\n') # BOS = Begin Of Sentence\n",
    "print('Back to words: %s' % batch_lines_restored)"
   ]
  },
  {
   "cell_type": "markdown",
   "metadata": {
    "id": "gSYu-MkElrsk"
   },
   "source": [
    "## Draw source and translation length distributions to estimate the scope of the task"
   ]
  },
  {
   "cell_type": "code",
   "execution_count": 7,
   "metadata": {
    "colab": {
     "base_uri": "https://localhost:8080/",
     "height": 281
    },
    "id": "TLLl9cSNlrsl",
    "outputId": "fa1ad0ae-c0b1-4199-f2c6-5dd16d8aa303"
   },
   "outputs": [
    {
     "data": {
      "image/png": "[encoded data removed]",
      "text/plain": [
       "<Figure size 1080x360 with 2 Axes>"
      ]
     },
     "metadata": {
      "needs_background": "light"
     },
     "output_type": "display_data"
    }
   ],
   "source": [
    "plt.figure(figsize=(15, 5))\n",
    "plt.subplot(1, 2, 1)\n",
    "plt.title(\"Source length\")\n",
    "plt.hist(list(map(len, map(str.split, train_inp))), bins=20);\n",
    "\n",
    "plt.subplot(1, 2, 2)\n",
    "plt.title(\"Translation length\")\n",
    "plt.hist(list(map(len, map(str.split, train_out))), bins=20);"
   ]
  },
  {
   "cell_type": "markdown",
   "metadata": {
    "id": "BHWgx34flrsn"
   },
   "source": [
    "## Encoder-decoder model\n",
    "\n",
    "The code below contains a template for a simple encoder-decoder model: single GRU encoder/decoder, no attention or anything"
   ]
  },
  {
   "cell_type": "code",
   "execution_count": 8,
   "metadata": {
    "colab": {
     "base_uri": "https://localhost:8080/",
     "height": 35
    },
    "id": "pd_rDRm9lrso",
    "outputId": "65302dbe-4309-412d-f460-3c4f87054236"
   },
   "outputs": [
    {
     "data": {
      "text/plain": [
       "'cuda:4'"
      ]
     },
     "execution_count": 8,
     "metadata": {},
     "output_type": "execute_result"
    }
   ],
   "source": [
    "device = 'cuda:4' if torch.cuda.is_available() else 'cpu'\n",
    "device"
   ]
  },
  {
   "cell_type": "markdown",
   "metadata": {},
   "source": [
    "## Debugging area"
   ]
  },
  {
   "cell_type": "code",
   "execution_count": 9,
   "metadata": {
    "id": "OzdVCCwOSEhv"
   },
   "outputs": [
    {
     "name": "stdout",
     "output_type": "stream",
     "text": [
      "Translations without training:\n",
      "menu inte@@ be deli@@ aus lin volcan@@ apartament see@@ pes na@@ det@@ ños patong helpful asa pes na@@ hama heath@@ hama liber@@ anastasia sharm miram@@\n",
      "menu inte@@ prin@@ aku@@ plo@@ aman september venizélos roman ronomical casale professional piazz@@ t ê allo@@ la@@ ta@@ ī core iconic havel go@@ comprise rolls\n"
     ]
    }
   ],
   "source": [
    "model = BasicModel(inp_voc, out_voc).to(device)\n",
    "\n",
    "dummy_inp_tokens = inp_voc.to_matrix(sorted(train_inp, key=len)[5:10]).to(device)\n",
    "dummy_out_tokens = out_voc.to_matrix(sorted(train_out, key=len)[5:10]).to(device)\n",
    "\n",
    "h0 = model.encode(dummy_inp_tokens)\n",
    "h1, logits1 = model.decode_step(h0, torch.arange(len(dummy_inp_tokens), device=device))\n",
    "\n",
    "assert isinstance(h1, list) and len(h1) == len(h0)\n",
    "assert h1[0].shape == h0[0].shape and not torch.allclose(h1[0], h0[0])\n",
    "assert logits1.shape == (len(dummy_inp_tokens), len(out_voc))\n",
    "\n",
    "logits_seq = model.decode(h0, dummy_out_tokens)\n",
    "assert logits_seq.shape == (dummy_out_tokens.shape[0], dummy_out_tokens.shape[1], len(out_voc))\n",
    "\n",
    "# full forward\n",
    "logits_seq2 = model(dummy_inp_tokens, dummy_out_tokens)\n",
    "assert logits_seq2.shape == logits_seq.shape\n",
    "\n",
    "dummy_translations, dummy_states = model.translate_lines(train_inp[:2], device, max_len=25)\n",
    "translations = '\\n'.join([line for line in dummy_translations])\n",
    "print('Translations without training:\\n%s' % translations)"
   ]
  },
  {
   "cell_type": "markdown",
   "metadata": {
    "id": "_wuv1-aVlrs0"
   },
   "source": [
    "## Training loss\n",
    "\n",
    "Our training objective is almost the same as it was for neural language models:\n",
    "$$ L = {\\frac1{|D|}} \\sum_{X, Y \\in D} \\sum_{y_t \\in Y} - \\log p(y_t \\mid y_1, \\dots, y_{t-1}, X, \\theta) $$\n",
    "\n",
    "where $|D|$ is the __total length of all sequences__, including BOS and first EOS, but excluding PAD."
   ]
  },
  {
   "cell_type": "code",
   "execution_count": 10,
   "metadata": {},
   "outputs": [],
   "source": [
    "from commons import compute_loss"
   ]
  },
  {
   "cell_type": "code",
   "execution_count": 11,
   "metadata": {
    "id": "c8XPV8sWlrs5",
    "scrolled": true
   },
   "outputs": [
    {
     "name": "stdout",
     "output_type": "stream",
     "text": [
      "Loss: tensor(7.5572, device='cuda:4', grad_fn=<NegBackward>)\n"
     ]
    }
   ],
   "source": [
    "dummy_loss = compute_loss(model, dummy_inp_tokens, dummy_out_tokens)\n",
    "print('Loss: %s' % dummy_loss)\n",
    "assert np.allclose(dummy_loss.item(), 7.5, rtol=0.1, atol=0.1), 'Sorry for your loss'\n",
    "\n",
    "# test autograd\n",
    "dummy_loss.backward()\n",
    "for name, param in model.named_parameters():\n",
    "    assert param.grad is not None and abs(param.grad.max()) != 0, 'Param %s received no gradients' % name"
   ]
  },
  {
   "cell_type": "markdown",
   "metadata": {
    "id": "HpbaBpW7lrs-"
   },
   "source": [
    "## Evaluation: BLEU\n",
    "\n",
    "Machine translation is commonly evaluated with [BLEU](https://en.wikipedia.org/wiki/BLEU) score. This metric simply computes which fraction of predicted n-grams is actually present in the reference translation. It does so for n=1,2,3 and 4 and computes the geometric average with penalty if translation is shorter than reference.\n",
    "\n",
    "While BLEU [has many drawbacks](http://www.cs.jhu.edu/~ccb/publications/re-evaluating-the-role-of-bleu-in-mt-research.pdf), it still remains the most commonly used metric and one of the simplest to compute."
   ]
  },
  {
   "cell_type": "code",
   "execution_count": 12,
   "metadata": {},
   "outputs": [],
   "source": [
    "from commons import compute_bleu"
   ]
  },
  {
   "cell_type": "code",
   "execution_count": 13,
   "metadata": {
    "id": "Gb1-PhKIlrs-"
   },
   "outputs": [
    {
     "data": {
      "text/plain": [
       "0.0026298994096136115"
      ]
     },
     "execution_count": 13,
     "metadata": {},
     "output_type": "execute_result"
    }
   ],
   "source": [
    "compute_bleu(model, dev_inp, dev_out)"
   ]
  },
  {
   "cell_type": "markdown",
   "metadata": {
    "id": "nQDhGwg4lrtC"
   },
   "source": [
    "## Training loop\n",
    "\n",
    "Training encoder-decoder models isn't that different from any other models: sample batches, compute loss, backprop and update"
   ]
  },
  {
   "cell_type": "code",
   "execution_count": 14,
   "metadata": {
    "id": "yfwIaixHlrtI",
    "scrolled": false
   },
   "outputs": [],
   "source": [
    "def train_model(model, n_iters=15000, batch_size=64, lr=1e-3, n_iters_break=500):\n",
    "    metrics = {'train_loss': [], 'dev_bleu': [] }\n",
    "    opt = torch.optim.Adam(model.parameters(), lr=lr)\n",
    "    \n",
    "    best_weights = model.state_dict()\n",
    "    best_bleu = -1\n",
    "    best_step = -1\n",
    "    with tqdm(range(n_iters)) as progress_bar:\n",
    "        for i in progress_bar:\n",
    "            step = len(metrics['train_loss']) + 1\n",
    "            batch_ix = np.random.randint(len(train_inp), size=batch_size)\n",
    "            batch_inp = inp_voc.to_matrix(train_inp[batch_ix]).to(device)\n",
    "            batch_out = out_voc.to_matrix(train_out[batch_ix]).to(device)\n",
    "\n",
    "            opt.zero_grad()\n",
    "            loss_t = compute_loss(model, batch_inp, batch_out)\n",
    "            loss_t.backward()\n",
    "            opt.step()\n",
    "\n",
    "            metrics['train_loss'].append((step, loss_t.item()))\n",
    "            if step % 100 == 0:\n",
    "                bleu = compute_bleu(model, dev_inp, dev_out)\n",
    "                metrics['dev_bleu'].append((step, bleu))\n",
    "\n",
    "                if bleu > best_bleu:\n",
    "                    best_bleu = bleu\n",
    "                    best_step = step\n",
    "                    best_weights = copy.deepcopy(model.state_dict())\n",
    "                elif step - best_step >= n_iters_break:\n",
    "                    break\n",
    "\n",
    "                clear_output(wait=True)\n",
    "                plt.figure(figsize=(12, 4))\n",
    "                for i, (name, history) in enumerate(sorted(metrics.items())):\n",
    "                    plt.subplot(1, len(metrics), i + 1)\n",
    "                    plt.title(name)\n",
    "                    plt.plot(*zip(*history))\n",
    "                    plt.grid()\n",
    "                plt.show()\n",
    "\n",
    "                print(\"Mean loss=%.3f\" % np.mean(metrics['train_loss'][-10:], axis=0)[1], flush=True)\n",
    "            \n",
    "    model.load_state_dict(best_weights)\n",
    "    return best_bleu"
   ]
  },
  {
   "cell_type": "code",
   "execution_count": 25,
   "metadata": {
    "colab": {
     "base_uri": "https://localhost:8080/",
     "height": 614
    },
    "id": "LlDT6eDUlrtL",
    "outputId": "d0299ee4-2afb-466b-b767-98c09d6ee5e3",
    "scrolled": true
   },
   "outputs": [],
   "source": [
    "basic_model = BasicModel(inp_voc, out_voc).to(device)\n",
    "%time train_model(basic_model, batch_size=128, lr=1e-3*5, n_iters=5000)"
   ]
  },
  {
   "cell_type": "code",
   "execution_count": 26,
   "metadata": {},
   "outputs": [],
   "source": [
    "torch.save(basic_model.state_dict(), \"basic_model\")\n",
    "basic_model.load_state_dict(torch.load(\"basic_model\"))"
   ]
  },
  {
   "cell_type": "code",
   "execution_count": 27,
   "metadata": {},
   "outputs": [],
   "source": [
    "def beam_research(model, inp, out, model_name, beam_min=1, beam_max=10):\n",
    "    beam_range = range(beam_min, beam_max + 1)\n",
    "    blue_scores = []\n",
    "\n",
    "    for beam_size in beam_range:\n",
    "        blue = compute_bleu(model, inp, out, beam_size=beam_size)\n",
    "        blue_scores.append(blue)\n",
    "\n",
    "    plt.figure(figsize=(7, 5))\n",
    "    plt.plot(beam_range, blue_scores)\n",
    "    plt.title('Beam search results for %s' % model_name)\n",
    "    plt.xticks(beam_range)\n",
    "    plt.xlabel('beam size')\n",
    "    plt.ylabel('blue score')\n",
    "    plt.show()"
   ]
  },
  {
   "cell_type": "code",
   "execution_count": 28,
   "metadata": {},
   "outputs": [],
   "source": [
    "%time beam_research(basic_model, dev_inp, dev_out, 'basic model')"
   ]
  },
  {
   "cell_type": "code",
   "execution_count": 30,
   "metadata": {
    "id": "KyaHOpealrtS",
    "scrolled": true
   },
   "outputs": [],
   "source": [
    "with torch.no_grad():\n",
    "    for inp_line, trans_line in zip(dev_inp[::700], basic_model.translate_lines(dev_inp[::700], device, 2)[0]):\n",
    "        print('Inp: %s' % inp_line.replace('@@ ', ''))\n",
    "        print('Out: %s' % trans_line.replace('@@ ', ''))\n",
    "        print()"
   ]
  },
  {
   "cell_type": "markdown",
   "metadata": {},
   "source": [
    "## Simple Encoder-decoder model gets bleu 17.5, but quality of translation is so bad"
   ]
  },
  {
   "cell_type": "markdown",
   "metadata": {},
   "source": [
    "# Model with attention"
   ]
  },
  {
   "cell_type": "markdown",
   "metadata": {
    "id": "Qz9aROAIlrtX"
   },
   "source": [
    "### Attention layer\n",
    "\n",
    "Here you will have to implement a layer that computes a simple additive attention:\n",
    "\n",
    "Given encoder sequence $ h^e_0, h^e_1, h^e_2, ..., h^e_T$ and a single decoder state $h^d$,\n",
    "\n",
    "* Compute logits with a 2-layer neural network\n",
    "$$a_t = linear_{out}(tanh(linear_{e}(h^e_t) + linear_{d}(h_d)))$$\n",
    "* Get probabilities from logits, \n",
    "$$ p_t = {{e ^ {a_t}} \\over { \\sum_\\tau e^{a_\\tau} }} $$\n",
    "\n",
    "* Add up encoder states with probabilities to get __attention response__\n",
    "$$ attn = \\sum_t p_t \\cdot h^e_t $$\n",
    "\n",
    "You can learn more about attention layers in the lecture slides or [from this post](https://distill.pub/2016/augmented-rnns/)."
   ]
  },
  {
   "cell_type": "markdown",
   "metadata": {
    "id": "IalfpdAelrtb"
   },
   "source": [
    "## Seq2seq model with attention\n",
    "\n",
    "You can now use the attention layer to build a network. The simplest way to implement attention is to use it in decoder phase. On every step, use __previous__ decoder state to obtain attention response. Then feed concat this response to the inputs of next attention layer.\n",
    "\n",
    "The key implementation detail here is __model state__. Put simply, you can add any tensor into the list of `encode` outputs. You will then have access to them at each `decode` step. This may include:\n",
    "* Last RNN hidden states (as in basic model)\n",
    "* The whole sequence of encoder outputs (to attend to) and mask\n",
    "* Attention probabilities (to visualize)\n",
    "\n",
    "_There are alternative ways to wire attention into network and different kinds of attention. For example [this](https://arxiv.org/abs/1609.08144), [this](https://arxiv.org/abs/1706.03762) and [this](https://arxiv.org/abs/1808.03867) for ideas. And for image captioning/im2latex there's [visual attention](https://arxiv.org/abs/1502.03044)_"
   ]
  },
  {
   "cell_type": "code",
   "execution_count": 15,
   "metadata": {
    "id": "NCKPB5JmcE6j"
   },
   "outputs": [],
   "source": [
    "from my_models import AttentiveModel"
   ]
  },
  {
   "cell_type": "markdown",
   "metadata": {
    "id": "ryZCOTEslrtf"
   },
   "source": [
    "### Training attentive model"
   ]
  },
  {
   "cell_type": "code",
   "execution_count": 32,
   "metadata": {},
   "outputs": [
    {
     "data": {
      "image/png": "[encoded data removed]",
      "text/plain": [
       "<Figure size 864x288 with 2 Axes>"
      ]
     },
     "metadata": {
      "needs_background": "light"
     },
     "output_type": "display_data"
    },
    {
     "name": "stdout",
     "output_type": "stream",
     "text": [
      "Mean loss=1.143\n"
     ]
    },
    {
     "name": "stderr",
     "output_type": "stream",
     "text": [
      " 37%|███▋      | 5499/15000 [21:02<36:20,  4.36it/s]  "
     ]
    },
    {
     "name": "stdout",
     "output_type": "stream",
     "text": [
      "CPU times: user 1h 17min 1s, sys: 16 s, total: 1h 17min 17s\n",
      "Wall time: 21min 2s\n"
     ]
    },
    {
     "name": "stderr",
     "output_type": "stream",
     "text": [
      "\n"
     ]
    },
    {
     "data": {
      "text/plain": [
       "27.179728487622345"
      ]
     },
     "execution_count": 32,
     "metadata": {},
     "output_type": "execute_result"
    }
   ],
   "source": [
    "attentive_model = AttentiveModel(inp_voc, out_voc, rnn_type='LSTM', bid=True).to(device)\n",
    "%time train_model(attentive_model, lr=1e-3, batch_size=64)"
   ]
  },
  {
   "cell_type": "code",
   "execution_count": 17,
   "metadata": {},
   "outputs": [
    {
     "data": {
      "text/plain": [
       "<All keys matched successfully>"
      ]
     },
     "execution_count": 17,
     "metadata": {},
     "output_type": "execute_result"
    }
   ],
   "source": [
    "torch.save(attentive_model.state_dict(), \"att_model\")\n",
    "attentive_model.load_state_dict(torch.load(\"att_model\"))"
   ]
  },
  {
   "cell_type": "code",
   "execution_count": 34,
   "metadata": {
    "scrolled": false
   },
   "outputs": [],
   "source": [
    "# %time beam_research(attentive_model, dev_inp, dev_out, 'attentive model')"
   ]
  },
  {
   "cell_type": "code",
   "execution_count": 35,
   "metadata": {},
   "outputs": [
    {
     "name": "stdout",
     "output_type": "stream",
     "text": [
      "Inp: в распоряжении гостей караоке .\n",
      "Out: karaoke facilities are available .\n",
      "\n",
      "Inp: рядом со зданием предоставляется бесплатная общественная парковка .\n",
      "Out: free public parking is possible nearby .\n",
      "\n",
      "Inp: из отеля открывается вид на окружающие горы и пустыню .\n",
      "Out: it offers views of the surrounding mountains and surrounding mountains .\n",
      "\n",
      "Inp: гости отеля могут посещать хорошо оборудованный фитнес - центр .\n",
      "Out: the well - equipped fitness centre features a fitness centre .\n",
      "\n"
     ]
    }
   ],
   "source": [
    "with torch.no_grad():\n",
    "    for inp_line, trans_line in zip(dev_inp[::700], attentive_model.translate_lines(dev_inp[::700], device, 2)[0]):\n",
    "        print('Inp: %s' % inp_line.replace('@@ ', ''))\n",
    "        print('Out: %s' % trans_line.replace('@@ ', ''))\n",
    "        print()"
   ]
  },
  {
   "cell_type": "code",
   "execution_count": 36,
   "metadata": {},
   "outputs": [
    {
     "data": {
      "text/plain": [
       "28.230678480437543"
      ]
     },
     "execution_count": 36,
     "metadata": {},
     "output_type": "execute_result"
    }
   ],
   "source": [
    "compute_bleu(attentive_model, dev_inp, dev_out, beam_size=2)"
   ]
  },
  {
   "cell_type": "markdown",
   "metadata": {},
   "source": [
    "## Attentive model gets bleu 28.2, it is significantly better then simple model and translation so better"
   ]
  },
  {
   "cell_type": "markdown",
   "metadata": {},
   "source": [
    "# ТЕПЕРЬ RL (потом распишу чего я тут наделал)"
   ]
  },
  {
   "cell_type": "code",
   "execution_count": 19,
   "metadata": {},
   "outputs": [],
   "source": [
    "from torch.nn import functional as F\n",
    "from nltk.translate.bleu_score import corpus_bleu\n",
    "\n",
    "\n",
    "def compute_reward(translations, actual, bpe_sep='@@ '):\n",
    "    translations = out_voc.to_lines(translations)\n",
    "    actual = out_voc.to_lines(actual)\n",
    "    translations = [x.replace(bpe_sep, '') for x in translations]\n",
    "    actual = [x.replace(bpe_sep, '') for x in actual]\n",
    "    return torch.tensor([corpus_bleu(\n",
    "            [[ref.split()]],\n",
    "            [trans.split()],\n",
    "            smoothing_function=lambda precisions, **kw: [p + 1.0 / p.denominator for p in precisions]\n",
    "            ) * 100\n",
    "           for ref, trans in zip(actual, translations)])\n",
    "\n",
    "\n",
    "def scst_translate(model, batch_inp, max_len, greedy=False, eps=1e-30):\n",
    "    batch_size = batch_inp.shape[0]\n",
    "    \n",
    "    state = model.encode(batch_inp)\n",
    "    outputs = [torch.full([batch_size], out_voc.bos_ix, dtype=torch.int64, device=device)]\n",
    "    logits_seq = [torch.log(F.one_hot(outputs[0], len(out_voc)) + eps)]\n",
    "            \n",
    "    for i in range(max_len):\n",
    "        state, logits = model.decode_step(state, outputs[-1])\n",
    "        logits_seq.append(logits)\n",
    "        if greedy:\n",
    "            outputs.append(logits.argmax(dim=-1))\n",
    "        else:\n",
    "            probs = F.softmax(logits, dim=-1)\n",
    "            outputs.append(torch.multinomial(probs, 1)[:, 0])\n",
    "            \n",
    "    return torch.stack(outputs, 1), F.log_softmax(torch.stack(logits_seq, 1), dim=-1)\n",
    "\n",
    "def scst_objective_on_batch(model, batch_size=32, max_len=100, entropy_coef=0.01):\n",
    "    \"\"\" Compute pseudo-loss for policy gradient given a batch of sources \"\"\"\n",
    "    \n",
    "    batch_ix = np.random.randint(len(train_inp), size=batch_size)\n",
    "    batch_inp = inp_voc.to_matrix(train_inp[batch_ix]).to(device)\n",
    "    batch_out = out_voc.to_matrix(train_out[batch_ix]).to(device)\n",
    "    \n",
    "    sample_translations, sample_logp = scst_translate(model, batch_inp, max_len, greedy=False)\n",
    "    \n",
    "    assert tuple(sample_translations.shape) == (batch_size, max_len + 1)\n",
    "    assert tuple(sample_logp.shape) == (batch_size, max_len + 1, len(out_voc))\n",
    "    \n",
    "    greedy_translations, greedy_logp = scst_translate(model, batch_inp, max_len, greedy=True)\n",
    "   \n",
    "    # compute rewards and advantage\n",
    "    rewards = compute_reward(sample_translations, batch_out).to(device)\n",
    "    baseline = compute_reward(greedy_translations, batch_out).to(device)\n",
    "    \n",
    "    assert tuple(rewards.shape) == (batch_size,)\n",
    "    \n",
    "    advantage = rewards - baseline\n",
    "\n",
    "    # compute log_pi(a_t|s_t), shape = [batch, seq_length]\n",
    "    logp_sample = torch.sum(sample_logp *\n",
    "                  F.one_hot(sample_translations, len(out_voc)), dim=-1)\n",
    "    \n",
    "    assert tuple(logp_sample.shape) == (batch_size, max_len + 1)\n",
    "\n",
    "    # policy gradient pseudo-loss. Gradient of J is exactly policy gradient.\n",
    "    J = logp_sample * advantage[:, None]\n",
    "\n",
    "    assert tuple(J.shape) == (batch_size, max_len + 1)\n",
    "\n",
    "    # average with mask\n",
    "    mask = out_voc.compute_mask(sample_translations)\n",
    "    loss = -torch.sum(J * mask) / torch.sum(mask)\n",
    "\n",
    "    # regularize with negative entropy\n",
    "    entropy = -torch.sum(sample_logp.exp() * sample_logp, dim=-1)\n",
    "\n",
    "    assert tuple(entropy.shape) == (batch_size, max_len + 1)\n",
    "\n",
    "    reg = -entropy_coef * torch.sum(entropy * mask) / torch.sum(mask)\n",
    "\n",
    "    return loss + reg, torch.sum(entropy * mask) / torch.sum(mask)"
   ]
  },
  {
   "cell_type": "code",
   "execution_count": null,
   "metadata": {},
   "outputs": [
    {
     "data": {
      "image/png": "[encoded data removed]",
      "text/plain": [
       "<Figure size 864x288 with 3 Axes>"
      ]
     },
     "metadata": {
      "needs_background": "light"
     },
     "output_type": "display_data"
    },
    {
     "name": "stderr",
     "output_type": "stream",
     "text": [
      "  2%|▏         | 2408/100000 [25:10<17:16:41,  1.57it/s]"
     ]
    }
   ],
   "source": [
    "loss_history, entropy_history, bleu_history = [], [], []\n",
    "opt = torch.optim.Adam(attentive_model.parameters(), lr=1e-5)\n",
    "\n",
    "for i in tqdm(range(100 * 1000)):\n",
    "    loss, ent = scst_objective_on_batch(attentive_model)\n",
    "    \n",
    "    loss.backward()\n",
    "    opt.step()\n",
    "    opt.zero_grad()\n",
    "    \n",
    "    loss_history.append(loss.item())\n",
    "    entropy_history.append(ent.item())\n",
    "\n",
    "    if (i + 1) % 50 == 0:\n",
    "        bleu_history.append(compute_bleu(attentive_model, dev_inp, dev_out))\n",
    "\n",
    "        clear_output(wait=True)\n",
    "        plt.figure(figsize=(12, 4))\n",
    "\n",
    "        plt.subplot(1, 3, 1)\n",
    "        plt.plot(loss_history)\n",
    "        plt.grid()\n",
    "        plt.title('train loss (J in formula)')\n",
    "\n",
    "        plt.subplot(1, 3, 2)\n",
    "        plt.plot(bleu_history)\n",
    "        plt.grid()\n",
    "        plt.title('dev_bleu')\n",
    "\n",
    "        plt.subplot(1, 3, 3)\n",
    "        plt.plot(entropy_history)\n",
    "        plt.grid()\n",
    "        plt.title('policy entropy')\n",
    "\n",
    "        plt.show()"
   ]
  },
  {
   "cell_type": "markdown",
   "metadata": {},
   "source": [
    "## Transformer model"
   ]
  },
  {
   "cell_type": "code",
   "execution_count": 47,
   "metadata": {},
   "outputs": [
    {
     "data": {
      "application/vnd.jupyter.widget-view+json": {
       "model_id": "2e9609518ca84f85961ba04d11eada81",
       "version_major": 2,
       "version_minor": 0
      },
      "text/plain": [
       "Downloading:   0%|          | 0.00/776k [00:00<?, ?B/s]"
      ]
     },
     "metadata": {},
     "output_type": "display_data"
    },
    {
     "data": {
      "application/vnd.jupyter.widget-view+json": {
       "model_id": "1505c1dda11f4a75a2ac8cc143765bd8",
       "version_major": 2,
       "version_minor": 0
      },
      "text/plain": [
       "Downloading:   0%|          | 0.00/639k [00:00<?, ?B/s]"
      ]
     },
     "metadata": {},
     "output_type": "display_data"
    },
    {
     "data": {
      "application/vnd.jupyter.widget-view+json": {
       "model_id": "db69df66511d47e09da171405a84d36c",
       "version_major": 2,
       "version_minor": 0
      },
      "text/plain": [
       "Downloading:   0%|          | 0.00/396k [00:00<?, ?B/s]"
      ]
     },
     "metadata": {},
     "output_type": "display_data"
    },
    {
     "data": {
      "application/vnd.jupyter.widget-view+json": {
       "model_id": "ad08efd56a844a6e9b89166e4afc2277",
       "version_major": 2,
       "version_minor": 0
      },
      "text/plain": [
       "Downloading:   0%|          | 0.00/67.0 [00:00<?, ?B/s]"
      ]
     },
     "metadata": {},
     "output_type": "display_data"
    },
    {
     "data": {
      "application/vnd.jupyter.widget-view+json": {
       "model_id": "a356dcfe59554c09aa4909a596892e07",
       "version_major": 2,
       "version_minor": 0
      },
      "text/plain": [
       "Downloading:   0%|          | 0.00/826 [00:00<?, ?B/s]"
      ]
     },
     "metadata": {},
     "output_type": "display_data"
    },
    {
     "data": {
      "application/vnd.jupyter.widget-view+json": {
       "model_id": "a05e346bacb44d179f766e18eb29cba0",
       "version_major": 2,
       "version_minor": 0
      },
      "text/plain": [
       "Downloading:   0%|          | 0.00/1.16G [00:00<?, ?B/s]"
      ]
     },
     "metadata": {},
     "output_type": "display_data"
    }
   ],
   "source": [
    "mname = \"facebook/wmt19-ru-en\"\n",
    "tokenizer = FSMTTokenizer.from_pretrained(mname)\n",
    "model = FSMTForConditionalGeneration.from_pretrained(mname).to('cuda:1')"
   ]
  },
  {
   "cell_type": "code",
   "execution_count": 57,
   "metadata": {
    "scrolled": true
   },
   "outputs": [
    {
     "name": "stdout",
     "output_type": "stream",
     "text": [
      "в распоряжении гостей караоке .\n",
      "karaoke is at guests \" disposal .\n",
      "\n",
      "рядом со зданием предоставляется бесплатная общественная парковка .\n",
      "free public parking is available next to the building .\n",
      "\n",
      "из отеля открывается вид на окружающие горы и пустыню .\n",
      "the hotel overlooks the surrounding mountains and desert .\n",
      "\n",
      "гости отеля могут посещать хорошо оборудованный фитнес - центр .\n",
      "guests can use the hotel ' s well - equipped fitness centre .\n",
      "\n"
     ]
    },
    {
     "data": {
      "application/vnd.jupyter.widget-view+json": {
       "model_id": "e12c48705d864af69ae1da0b7fce3f89",
       "version_major": 2,
       "version_minor": 0
      },
      "text/plain": [
       "  0%|          | 0/2501 [00:00<?, ?it/s]"
      ]
     },
     "metadata": {},
     "output_type": "display_data"
    },
    {
     "data": {
      "text/plain": [
       "33.72046665768791"
      ]
     },
     "execution_count": 57,
     "metadata": {},
     "output_type": "execute_result"
    }
   ],
   "source": [
    "from nltk.translate.bleu_score import corpus_bleu\n",
    "\n",
    "def compute_blue_transformer(model, inp_lines, out_lines, bpe_sep='@@ '):\n",
    "    inp = [line.replace(bpe_sep, '') for line in inp_lines]\n",
    "    out = [line.replace(bpe_sep, '') for line in out_lines]\n",
    "    translations = []\n",
    "    for src in tqdm(inp):\n",
    "        input_ids = tokenizer.encode(src, return_tensors=\"pt\").to('cuda:1')\n",
    "        outputs = model.generate(input_ids, num_beams=2)\n",
    "        decoded = tokenizer.decode(outputs[0], skip_special_tokens=True)\n",
    "        decoded = tokenize(decoded)\n",
    "        translations.append(decoded)\n",
    "        \n",
    "    return corpus_bleu(\n",
    "        [[ref.split()] for ref in out],\n",
    "        [trans.split() for trans in translations],\n",
    "        smoothing_function=lambda precisions, **kw: [p + 1.0 / p.denominator for p in precisions]\n",
    "        ) * 100\n",
    "\n",
    "for inp_line in dev_inp[::700]:\n",
    "    inp = inp_line.replace('@@ ', '')\n",
    "    input_ids = tokenizer.encode(inp, return_tensors=\"pt\").to('cuda:1')\n",
    "    outputs = model.generate(input_ids)\n",
    "    decoded = tokenizer.decode(outputs[0], skip_special_tokens=True)\n",
    "    decoded = tokenize(decoded)\n",
    "    print(inp)\n",
    "    print(decoded)\n",
    "    print()\n",
    "    \n",
    "compute_blue_transformer(model, dev_inp, dev_out)"
   ]
  },
  {
   "cell_type": "code",
   "execution_count": 2,
   "metadata": {},
   "outputs": [],
   "source": [
    "# input = \"я не люблю 23 февраля и иду в бгу!\"\n",
    "# input_ids = tokenizer.encode(input, return_tensors=\"pt\")\n",
    "# outputs = model.generate(input_ids)\n",
    "# decoded = tokenizer.decode(outputs[0], skip_special_tokens=True)\n",
    "# print(tokenize(decoded))"
   ]
  }
 ],
 "metadata": {
  "accelerator": "GPU",
  "colab": {
   "collapsed_sections": [
    "edk_oVg0lrtW"
   ],
   "name": "practice_and_homework_pytorch.ipynb",
   "provenance": []
  },
  "kernelspec": {
   "display_name": "Python 3",
   "language": "python",
   "name": "python3"
  },
  "language_info": {
   "codemirror_mode": {
    "name": "ipython",
    "version": 3
   },
   "file_extension": ".py",
   "mimetype": "text/x-python",
   "name": "python",
   "nbconvert_exporter": "python",
   "pygments_lexer": "ipython3",
   "version": "3.8.5"
  }
 },
 "nbformat": 4,
 "nbformat_minor": 1
}
